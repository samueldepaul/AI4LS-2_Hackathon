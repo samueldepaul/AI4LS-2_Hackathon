{
 "cells": [
  {
   "cell_type": "markdown",
   "id": "2402a51e-deff-4722-8f4c-10ea94a00c06",
   "metadata": {},
   "source": [
    "# Distance to City Variable Generation:"
   ]
  },
  {
   "cell_type": "markdown",
   "id": "5bf8e316-2f6d-42b1-8fb2-9e247333cacc",
   "metadata": {},
   "source": [
    "In this notebook a new exogenous variable is generated: Distance to the nearest city (in km). To do so, we rely on the Nominatim API"
   ]
  },
  {
   "cell_type": "markdown",
   "id": "a7b2f1a8-acab-4443-9eb2-4666815ddce9",
   "metadata": {},
   "source": [
    "#### Loading necessary libraries"
   ]
  },
  {
   "cell_type": "code",
   "execution_count": null,
   "id": "7470d892-dd06-44a4-9f79-04bf6f2555c5",
   "metadata": {},
   "outputs": [],
   "source": [
    "import requests\n",
    "from math import radians, sin, cos, sqrt, atan2\n",
    "import pandas as pd"
   ]
  },
  {
   "cell_type": "markdown",
   "id": "635c9cc8-0ff1-4f9f-8003-a6846b6a74c4",
   "metadata": {},
   "source": [
    "#### Loading auxiliary data"
   ]
  },
  {
   "cell_type": "code",
   "execution_count": 2,
   "id": "5bb93b36-fe9e-4696-8564-243e191c7724",
   "metadata": {},
   "outputs": [],
   "source": [
    "df_coord = pd.read_csv('auxiliary_data/gw_coordinates_df.csv')"
   ]
  },
  {
   "cell_type": "markdown",
   "id": "b3c5cf90-fbe4-4460-8960-01e3a979a97a",
   "metadata": {},
   "source": [
    "### Defining necessary functions"
   ]
  },
  {
   "cell_type": "code",
   "execution_count": 1,
   "id": "b2e4cf01-f896-4277-8916-99d21a72b4c5",
   "metadata": {},
   "outputs": [],
   "source": [
    "def haversine(lat1, lon1, lat2, lon2):\n",
    "    \"\"\"\n",
    "    Calculate the great-circle distance between two points on the Earth using the Haversine formula.\n",
    "\n",
    "    Args:\n",
    "        lat1 (float): Latitude of the first point in decimal degrees.\n",
    "        lon1 (float): Longitude of the first point in decimal degrees.\n",
    "        lat2 (float): Latitude of the second point in decimal degrees.\n",
    "        lon2 (float): Longitude of the second point in decimal degrees.\n",
    "\n",
    "    Returns:\n",
    "        float: Distance between the two points in kilometers.\n",
    "    \"\"\"\n",
    "    R = 6371.0  # Radius of the Earth in kilometers\n",
    "    dlat = radians(lat2 - lat1)  # Difference in latitudes converted to radians\n",
    "    dlon = radians(lon2 - lon1)  # Difference in longitudes converted to radians\n",
    "\n",
    "    # Haversine formula to calculate the distance\n",
    "    a = sin(dlat / 2)**2 + cos(radians(lat1)) * cos(radians(lat2)) * sin(dlon / 2)**2\n",
    "    c = 2 * atan2(sqrt(a), sqrt(1 - a))\n",
    "\n",
    "    # Calculate the distance\n",
    "    distance = R * c\n",
    "    return distance\n",
    "\n",
    "\n",
    "def get_nearest_city(lat, lon):\n",
    "    \"\"\"\n",
    "    Find the nearest city to a given set of coordinates using the Nominatim API.\n",
    "\n",
    "    Args:\n",
    "        lat (float): Latitude of the point.\n",
    "        lon (float): Longitude of the point.\n",
    "\n",
    "    Returns:\n",
    "        tuple: A tuple containing the name of the nearest city and the distance to it (in kilometers).\n",
    "               If no city is found, returns (\"Desconocido\", None).\n",
    "    \"\"\"\n",
    "    url = \"https://nominatim.openstreetmap.org/reverse\"\n",
    "    params = {\n",
    "        \"lat\": lat,\n",
    "        \"lon\": lon,\n",
    "        \"format\": \"json\",\n",
    "        \"zoom\": 10,  # Starting zoom level\n",
    "        \"addressdetails\": 1\n",
    "    }\n",
    "\n",
    "    headers = {\n",
    "        \"User-Agent\": \"MyUniqueApp/1.0 (contacto@miapp.com)\"  # Custom user agent for the API request\n",
    "    }\n",
    "\n",
    "    # Try different zoom levels to find a nearby city (from zoom level 10 to 12)\n",
    "    for zoom in range(10, 13):\n",
    "        params[\"zoom\"] = zoom\n",
    "        response = requests.get(url, params=params, headers=headers)\n",
    "\n",
    "        # Check if the request was successful\n",
    "        if response.status_code == 200:\n",
    "            try:\n",
    "                data = response.json()  # Parse the response data as JSON\n",
    "                nearest_city = data.get(\"address\", {}).get(\"city\") or \\\n",
    "                               data.get(\"address\", {}).get(\"town\") or \"Desconocido\"\n",
    "                nearest_lat = float(data.get(\"lat\", 0))\n",
    "                nearest_lon = float(data.get(\"lon\", 0))\n",
    "\n",
    "                # Calculate the distance to the nearest city using the haversine formula\n",
    "                distance_to_city = haversine(lat, lon, nearest_lat, nearest_lon)\n",
    "                return nearest_city, distance_to_city\n",
    "\n",
    "            except ValueError:\n",
    "                continue  # If the JSON parsing fails, continue with the next zoom level\n",
    "\n",
    "    # If no city is found, return \"Desconocido\" and None as the distance\n",
    "    return \"Desconocido\", None"
   ]
  },
  {
   "cell_type": "markdown",
   "id": "b51c5e0e-07fc-475b-850a-d188195c3f0e",
   "metadata": {},
   "source": [
    "### Getting the distance to the nearest city for each set of coordinates"
   ]
  },
  {
   "cell_type": "code",
   "execution_count": 3,
   "id": "be61587a-d35f-4a98-a038-d7c2caa4cc63",
   "metadata": {},
   "outputs": [],
   "source": [
    "df_coord['distance_to_city_km'] = df_coord.apply(lambda row: get_nearest_city(row['latitude'], row['longitude'])[1], axis=1)"
   ]
  },
  {
   "cell_type": "code",
   "execution_count": 4,
   "id": "22711fc1-0579-4ef0-ab42-ffe202ab81e8",
   "metadata": {},
   "outputs": [
    {
     "data": {
      "text/html": [
       "<div>\n",
       "<style scoped>\n",
       "    .dataframe tbody tr th:only-of-type {\n",
       "        vertical-align: middle;\n",
       "    }\n",
       "\n",
       "    .dataframe tbody tr th {\n",
       "        vertical-align: top;\n",
       "    }\n",
       "\n",
       "    .dataframe thead th {\n",
       "        text-align: right;\n",
       "    }\n",
       "</style>\n",
       "<table border=\"1\" class=\"dataframe\">\n",
       "  <thead>\n",
       "    <tr style=\"text-align: right;\">\n",
       "      <th></th>\n",
       "      <th>id_loc</th>\n",
       "      <th>latitude</th>\n",
       "      <th>longitude</th>\n",
       "      <th>distance_to_city_km</th>\n",
       "    </tr>\n",
       "  </thead>\n",
       "  <tbody>\n",
       "    <tr>\n",
       "      <th>0</th>\n",
       "      <td>324095</td>\n",
       "      <td>48.310278</td>\n",
       "      <td>14.307500</td>\n",
       "      <td>1.648698</td>\n",
       "    </tr>\n",
       "    <tr>\n",
       "      <th>1</th>\n",
       "      <td>323295</td>\n",
       "      <td>48.330278</td>\n",
       "      <td>14.302778</td>\n",
       "      <td>2.974244</td>\n",
       "    </tr>\n",
       "    <tr>\n",
       "      <th>2</th>\n",
       "      <td>323154</td>\n",
       "      <td>48.283056</td>\n",
       "      <td>14.349444</td>\n",
       "      <td>1.705724</td>\n",
       "    </tr>\n",
       "    <tr>\n",
       "      <th>3</th>\n",
       "      <td>304535</td>\n",
       "      <td>48.306111</td>\n",
       "      <td>16.872222</td>\n",
       "      <td>2.338073</td>\n",
       "    </tr>\n",
       "    <tr>\n",
       "      <th>4</th>\n",
       "      <td>326934</td>\n",
       "      <td>47.915833</td>\n",
       "      <td>16.289167</td>\n",
       "      <td>1.457035</td>\n",
       "    </tr>\n",
       "  </tbody>\n",
       "</table>\n",
       "</div>"
      ],
      "text/plain": [
       "   id_loc   latitude  longitude  distance_to_city_km\n",
       "0  324095  48.310278  14.307500             1.648698\n",
       "1  323295  48.330278  14.302778             2.974244\n",
       "2  323154  48.283056  14.349444             1.705724\n",
       "3  304535  48.306111  16.872222             2.338073\n",
       "4  326934  47.915833  16.289167             1.457035"
      ]
     },
     "execution_count": 4,
     "metadata": {},
     "output_type": "execute_result"
    }
   ],
   "source": [
    "df_coord.head()"
   ]
  },
  {
   "cell_type": "markdown",
   "id": "79261acf-de18-46e3-8249-50b0aeebc59f",
   "metadata": {},
   "source": [
    "### Saving the resulting data"
   ]
  },
  {
   "cell_type": "code",
   "execution_count": 6,
   "id": "19862ec0-da91-404a-966d-1d0603bc3d42",
   "metadata": {},
   "outputs": [],
   "source": [
    "df_coord.to_csv('dist_to_city_full.csv', index = False)"
   ]
  }
 ],
 "metadata": {
  "kernelspec": {
   "display_name": "Python 3 (ipykernel)",
   "language": "python",
   "name": "python3"
  },
  "language_info": {
   "codemirror_mode": {
    "name": "ipython",
    "version": 3
   },
   "file_extension": ".py",
   "mimetype": "text/x-python",
   "name": "python",
   "nbconvert_exporter": "python",
   "pygments_lexer": "ipython3",
   "version": "3.10.14"
  }
 },
 "nbformat": 4,
 "nbformat_minor": 5
}
