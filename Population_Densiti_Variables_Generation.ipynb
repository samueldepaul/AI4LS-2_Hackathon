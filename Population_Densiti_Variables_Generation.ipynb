{
 "cells": [
  {
   "cell_type": "markdown",
   "id": "2c640dc7-0c8d-4cbc-8182-fc48c0d4b780",
   "metadata": {},
   "source": [
    "# Population Density Variables Generation"
   ]
  },
  {
   "cell_type": "markdown",
   "id": "adeec398-b3dd-44cb-81bf-98b24d80dc6c",
   "metadata": {},
   "source": [
    "In this notebook we use population density data from Geodata - Eurostat to generate an exogenous variable for our dataset, which could potentially be useful for the forecasts."
   ]
  },
  {
   "cell_type": "markdown",
   "id": "eb68285f-e81e-4c8d-8103-9d07288070d6",
   "metadata": {},
   "source": [
    "The data is available in the following link, specifically filtering for Austria: https://ec.europa.eu/eurostat/web/gisco/geodata"
   ]
  },
  {
   "cell_type": "markdown",
   "id": "09961798-f8bc-48f6-93c4-870ab768e5e8",
   "metadata": {},
   "source": [
    "#### Load libraries"
   ]
  },
  {
   "cell_type": "code",
   "execution_count": null,
   "id": "ebf8f77b-9c19-4957-9f95-fd66ac563b51",
   "metadata": {},
   "outputs": [],
   "source": [
    "import geopandas as gpd\n",
    "import pandas as pd\n",
    "import numpy as np\n",
    "import h3"
   ]
  },
  {
   "cell_type": "markdown",
   "id": "ab03ba30-5999-409f-9a4c-1cc25a2af37e",
   "metadata": {},
   "source": [
    "#### Load auxiliary data"
   ]
  },
  {
   "cell_type": "code",
   "execution_count": 12,
   "id": "bf69abc3-f7e7-45ba-8c55-939aab5f8aff",
   "metadata": {},
   "outputs": [],
   "source": [
    "# Load population density file without geometry, focusing on population and H3 ID\n",
    "file_path = 'auxiliary_data/Population_density/kontur_population_AT_20231101.gpkg'\n",
    "data = gpd.read_file(file_path, layer='population', ignore_geometry=True)"
   ]
  },
  {
   "cell_type": "code",
   "execution_count": 13,
   "id": "01ec614c-2253-4e7e-8da7-b90e6e6f3e95",
   "metadata": {},
   "outputs": [],
   "source": [
    "df_coord = pd.read_csv('auxiliary_data/gw_coordinates_df.csv')"
   ]
  },
  {
   "cell_type": "markdown",
   "id": "3c6405b4-4076-4512-9622-a17cee697865",
   "metadata": {},
   "source": [
    "### Preparing data"
   ]
  },
  {
   "cell_type": "code",
   "execution_count": null,
   "id": "db8b2b6f-74d9-43fe-826b-5cef490daeb0",
   "metadata": {},
   "outputs": [],
   "source": [
    "# Function to convert from latitude and longitude to H3 cell\n",
    "def latlon_to_h3(lat, lon, resolution=8):\n",
    "    return h3.geo_to_h3(lat, lon, resolution)"
   ]
  },
  {
   "cell_type": "code",
   "execution_count": 15,
   "id": "0e7f58dd-69b1-4026-a43e-1d82f1019211",
   "metadata": {},
   "outputs": [],
   "source": [
    "# Convert latitude and longitude in each row to H3 cell IDs and create a new column 'h3' in df_coord\n",
    "df_coord['h3'] = df_coord.apply(lambda row: latlon_to_h3(row['latitude'], row['longitude']), axis=1)\n",
    "\n",
    "# Merge population data with coordinates dataset\n",
    "df_coord = df_coord.merge(data, on='h3', how='left')"
   ]
  },
  {
   "cell_type": "markdown",
   "id": "aef28311-f8db-46ba-8c64-40f6bbc5ba0f",
   "metadata": {},
   "source": [
    "The previous process generates a significant amount of missing values since some of the coordinates are not directly related to any h3 cell. Therefore in the following code we impute the missing values by looking for the nearest h3 cell and taking that value instead."
   ]
  },
  {
   "cell_type": "code",
   "execution_count": 16,
   "id": "3032ced5-de0e-4a9e-8bf6-1381f854b96d",
   "metadata": {},
   "outputs": [],
   "source": [
    "# Function to find the nearest H3 cell with population data\n",
    "def find_nearest_h3(h3_cell, data, max_k=3):\n",
    "    \"\"\"\n",
    "    Search for the nearest H3 cell with population density data within a k-ring.\n",
    "    h3_cell: The original H3 cell.\n",
    "    data: The DataFrame containing H3 cells and population data.\n",
    "    max_k: Maximum distance of neighborhood to consider (k-ring).\n",
    "    \"\"\"\n",
    "    # Check in increasing rings of neighbors around the original H3 cell\n",
    "    for k in range(1, max_k + 1):\n",
    "        # Get the H3 cells within distance k\n",
    "        neighboring_cells = h3.k_ring_distances(h3_cell, k)[k]\n",
    "        \n",
    "        # Check if any of the neighboring cells have population data\n",
    "        for neighbor in neighboring_cells:\n",
    "            if neighbor in data['h3'].values:\n",
    "                # If a neighboring cell with population data is found, return it\n",
    "                return data.loc[data['h3'] == neighbor, 'population'].values[0]\n",
    "    \n",
    "    # If no nearby cell has population data, return NaN or a default value\n",
    "    return np.nan\n",
    "\n",
    "# Fill NaN population values by searching for the nearest H3 cell with data\n",
    "df_coord['population'] = df_coord.apply(\n",
    "    lambda row: row['population'] if not np.isnan(row['population']) else find_nearest_h3(row['h3'], data), \n",
    "    axis=1\n",
    ")"
   ]
  },
  {
   "cell_type": "markdown",
   "id": "c1f9021d-00ac-4192-97b7-26058ae7f07a",
   "metadata": {},
   "source": [
    "### Saving the resulting file"
   ]
  },
  {
   "cell_type": "code",
   "execution_count": 17,
   "id": "4dd04da8-1e18-403e-a5f0-c708cb021517",
   "metadata": {},
   "outputs": [],
   "source": [
    "df_coord.to_csv('population_density_full.csv', index = False)"
   ]
  }
 ],
 "metadata": {
  "kernelspec": {
   "display_name": "Python 3 (ipykernel)",
   "language": "python",
   "name": "python3"
  },
  "language_info": {
   "codemirror_mode": {
    "name": "ipython",
    "version": 3
   },
   "file_extension": ".py",
   "mimetype": "text/x-python",
   "name": "python",
   "nbconvert_exporter": "python",
   "pygments_lexer": "ipython3",
   "version": "3.10.14"
  }
 },
 "nbformat": 4,
 "nbformat_minor": 5
}
